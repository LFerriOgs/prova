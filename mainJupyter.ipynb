{
 "cells": [
  {
   "cell_type": "code",
   "execution_count": null,
   "metadata": {},
   "outputs": [],
   "source": [
    "import csv\n",
    "from urllib.request import urlopen\n",
    "from bs4 import BeautifulSoup\n",
    "from datetime import datetime \n",
    "import calendar\n"
   ]
  },
  {
   "cell_type": "code",
   "execution_count": 61,
   "metadata": {},
   "outputs": [
    {
     "name": "stdout",
     "output_type": "stream",
     "text": [
      "2024-08-02 12:24:45.719894\n",
      "2024-08-02 14:14:45\n",
      "https://nodc.ogs.it/erddap/tabledap/CURRISO_PR.csv?time%2Clatitude%2Clongitude%2Cdepth%2CVCSP%2CVCSP_QC%2CEWCT%2CEWCT_QC%2CNSCT%2CNSCT_QC&time%3E=2024-02-08T16%3A30%3A00Z&orderBy(%22time%22)\n",
      "https://nodc.ogs.it/erddap/tabledap/CURRISO_PR.csv?time%2Clatitude%2Clongitude%2Cdepth%2CVCSP%2CVCSP_QC%2CEWCT%2CEWCT_QC%2CNSCT%2CNSCT_QC&time%3E=2024-02-08T14%3A14%3A45Z&orderBy(%22time%22)\n"
     ]
    }
   ],
   "source": [
    "# lettura dei dati web attraverso BeautifulSoup\n",
    "urlString=\"https://nodc.ogs.it/erddap/tabledap/CURRISO_PR.csv?time%2Clatitude%2Clongitude%2Cdepth%2CVCSP%2CVCSP_QC%2CEWCT%2CEWCT_QC%2CNSCT%2CNSCT_QC&time%3E=2024-02-08T16%3A30%3A00Z&orderBy(%22time%22)\"\n",
    "currentDateTime = datetime.now() \n",
    "print(currentDateTime)\n",
    "dateTimeSeconds=calendar.timegm(currentDateTime.timetuple())\n",
    "dateTimeSeconds=dateTimeSeconds-10*60\n",
    "newDateTime=datetime.fromtimestamp(dateTimeSeconds)\n",
    "print(newDateTime)\n",
    "\n",
    "#composizione della stringa per la query al sito \n",
    "newUrlString=   urlString[:146]+ \\\n",
    "                newDateTime.strftime(\"%Y-%d-%mT\")+ \\\n",
    "                newDateTime.strftime(\"%H\")+ \\\n",
    "                \"%3A\"+ \\\n",
    "                newDateTime.strftime(\"%M\")+ \\\n",
    "                \"%3A\"+ \\\n",
    "                newDateTime.strftime(\"%SZ\") +\\\n",
    "                urlString[170:]\n",
    "\n",
    "html = urlopen(newUrlString)\n",
    "Obj = BeautifulSoup(html.read())\n",
    "\n",
    "\n",
    "currentDateTimeString=currentDateTime.strftime(\"%Y-%d-%mT_%H-%M-%S\")\n",
    "\n",
    "csvFileName='ERDDAP_Curriso_Profile_'+currentDateTimeString+'.csv'\n",
    "with open(csvFileName, 'w', newline='') as file: \n",
    "    writer = csv.writer(file)\n",
    "    writer.writerow(Obj)\n",
    "\n",
    "print(urlString)\n",
    "print(newUrlString)"
   ]
  },
  {
   "cell_type": "markdown",
   "metadata": {},
   "source": [
    "https://nodc.ogs.it/erddap/tabledap/CURRISO_PR.csv?time%2Clatitude%2Clongitude%2Cdepth%2CVCSP%2CVCSP_QC%2CEWCT%2CEWCT_QC%2CNSCT%2CNSCT_QC&time%3E=2024-02-08T16%3A30%3A00Z&orderBy(%22time%22)\n",
    "\n",
    "https://nodc.ogs.it/erddap/tabledap/CURRISO_PR.csv?time%2Clatitude%2Clongitude%2Cdepth%2CVCSP%2CVCSP_QC%2CEWCT%2CEWCT_QC%2CNSCT%2CNSCT_QC&time%3E=2024-02-08T16%3A31%3A46Z&orderBy(%22time%22)"
   ]
  },
  {
   "cell_type": "code",
   "execution_count": null,
   "metadata": {},
   "outputs": [],
   "source": [
    "print(newUrlString)"
   ]
  }
 ],
 "metadata": {
  "kernelspec": {
   "display_name": "base",
   "language": "python",
   "name": "python3"
  },
  "language_info": {
   "codemirror_mode": {
    "name": "ipython",
    "version": 3
   },
   "file_extension": ".py",
   "mimetype": "text/x-python",
   "name": "python",
   "nbconvert_exporter": "python",
   "pygments_lexer": "ipython3",
   "version": "3.12.4"
  }
 },
 "nbformat": 4,
 "nbformat_minor": 2
}
